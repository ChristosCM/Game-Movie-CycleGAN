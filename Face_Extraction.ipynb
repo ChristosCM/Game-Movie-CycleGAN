{
  "nbformat": 4,
  "nbformat_minor": 0,
  "metadata": {
    "colab": {
      "name": "Face-Extraction.ipynb",
      "provenance": []
    },
    "kernelspec": {
      "name": "python3",
      "display_name": "Python 3"
    },
    "language_info": {
      "name": "python"
    },
    "accelerator": "GPU"
  },
  "cells": [
    {
      "cell_type": "code",
      "metadata": {
        "id": "qt7QZeHklDbq",
        "colab": {
          "base_uri": "https://localhost:8080/"
        },
        "outputId": "09368bb7-15cd-44e3-84ca-879683ba4f6e"
      },
      "source": [
        "!pip install -q facenet_pytorch\n",
        "from facenet_pytorch import MTCNN\n",
        "from google.colab import files\n",
        "from PIL import Image\n",
        "import os\n",
        "from pathlib import Path\n",
        "import matplotlib.pyplot as plt\n",
        "import torch\n",
        "device = torch.device(\"cuda:0\" if torch.cuda.is_available() else \"cpu\")\n",
        "print(device)"
      ],
      "execution_count": null,
      "outputs": [
        {
          "output_type": "stream",
          "text": [
            "\u001b[?25l\r\u001b[K     |▏                               | 10kB 15.8MB/s eta 0:00:01\r\u001b[K     |▍                               | 20kB 20.5MB/s eta 0:00:01\r\u001b[K     |▌                               | 30kB 12.5MB/s eta 0:00:01\r\u001b[K     |▊                               | 40kB 9.6MB/s eta 0:00:01\r\u001b[K     |▉                               | 51kB 4.5MB/s eta 0:00:01\r\u001b[K     |█                               | 61kB 4.6MB/s eta 0:00:01\r\u001b[K     |█▏                              | 71kB 4.9MB/s eta 0:00:01\r\u001b[K     |█▍                              | 81kB 5.4MB/s eta 0:00:01\r\u001b[K     |█▋                              | 92kB 5.7MB/s eta 0:00:01\r\u001b[K     |█▊                              | 102kB 6.0MB/s eta 0:00:01\r\u001b[K     |██                              | 112kB 6.0MB/s eta 0:00:01\r\u001b[K     |██                              | 122kB 6.0MB/s eta 0:00:01\r\u001b[K     |██▎                             | 133kB 6.0MB/s eta 0:00:01\r\u001b[K     |██▍                             | 143kB 6.0MB/s eta 0:00:01\r\u001b[K     |██▋                             | 153kB 6.0MB/s eta 0:00:01\r\u001b[K     |██▉                             | 163kB 6.0MB/s eta 0:00:01\r\u001b[K     |███                             | 174kB 6.0MB/s eta 0:00:01\r\u001b[K     |███▏                            | 184kB 6.0MB/s eta 0:00:01\r\u001b[K     |███▎                            | 194kB 6.0MB/s eta 0:00:01\r\u001b[K     |███▌                            | 204kB 6.0MB/s eta 0:00:01\r\u001b[K     |███▋                            | 215kB 6.0MB/s eta 0:00:01\r\u001b[K     |███▉                            | 225kB 6.0MB/s eta 0:00:01\r\u001b[K     |████                            | 235kB 6.0MB/s eta 0:00:01\r\u001b[K     |████▏                           | 245kB 6.0MB/s eta 0:00:01\r\u001b[K     |████▍                           | 256kB 6.0MB/s eta 0:00:01\r\u001b[K     |████▌                           | 266kB 6.0MB/s eta 0:00:01\r\u001b[K     |████▊                           | 276kB 6.0MB/s eta 0:00:01\r\u001b[K     |████▉                           | 286kB 6.0MB/s eta 0:00:01\r\u001b[K     |█████                           | 296kB 6.0MB/s eta 0:00:01\r\u001b[K     |█████▏                          | 307kB 6.0MB/s eta 0:00:01\r\u001b[K     |█████▍                          | 317kB 6.0MB/s eta 0:00:01\r\u001b[K     |█████▋                          | 327kB 6.0MB/s eta 0:00:01\r\u001b[K     |█████▊                          | 337kB 6.0MB/s eta 0:00:01\r\u001b[K     |██████                          | 348kB 6.0MB/s eta 0:00:01\r\u001b[K     |██████                          | 358kB 6.0MB/s eta 0:00:01\r\u001b[K     |██████▎                         | 368kB 6.0MB/s eta 0:00:01\r\u001b[K     |██████▍                         | 378kB 6.0MB/s eta 0:00:01\r\u001b[K     |██████▋                         | 389kB 6.0MB/s eta 0:00:01\r\u001b[K     |██████▉                         | 399kB 6.0MB/s eta 0:00:01\r\u001b[K     |███████                         | 409kB 6.0MB/s eta 0:00:01\r\u001b[K     |███████▏                        | 419kB 6.0MB/s eta 0:00:01\r\u001b[K     |███████▎                        | 430kB 6.0MB/s eta 0:00:01\r\u001b[K     |███████▌                        | 440kB 6.0MB/s eta 0:00:01\r\u001b[K     |███████▋                        | 450kB 6.0MB/s eta 0:00:01\r\u001b[K     |███████▉                        | 460kB 6.0MB/s eta 0:00:01\r\u001b[K     |████████                        | 471kB 6.0MB/s eta 0:00:01\r\u001b[K     |████████▏                       | 481kB 6.0MB/s eta 0:00:01\r\u001b[K     |████████▍                       | 491kB 6.0MB/s eta 0:00:01\r\u001b[K     |████████▌                       | 501kB 6.0MB/s eta 0:00:01\r\u001b[K     |████████▊                       | 512kB 6.0MB/s eta 0:00:01\r\u001b[K     |████████▉                       | 522kB 6.0MB/s eta 0:00:01\r\u001b[K     |█████████                       | 532kB 6.0MB/s eta 0:00:01\r\u001b[K     |█████████▎                      | 542kB 6.0MB/s eta 0:00:01\r\u001b[K     |█████████▍                      | 552kB 6.0MB/s eta 0:00:01\r\u001b[K     |█████████▋                      | 563kB 6.0MB/s eta 0:00:01\r\u001b[K     |█████████▊                      | 573kB 6.0MB/s eta 0:00:01\r\u001b[K     |██████████                      | 583kB 6.0MB/s eta 0:00:01\r\u001b[K     |██████████                      | 593kB 6.0MB/s eta 0:00:01\r\u001b[K     |██████████▎                     | 604kB 6.0MB/s eta 0:00:01\r\u001b[K     |██████████▍                     | 614kB 6.0MB/s eta 0:00:01\r\u001b[K     |██████████▋                     | 624kB 6.0MB/s eta 0:00:01\r\u001b[K     |██████████▉                     | 634kB 6.0MB/s eta 0:00:01\r\u001b[K     |███████████                     | 645kB 6.0MB/s eta 0:00:01\r\u001b[K     |███████████▏                    | 655kB 6.0MB/s eta 0:00:01\r\u001b[K     |███████████▎                    | 665kB 6.0MB/s eta 0:00:01\r\u001b[K     |███████████▌                    | 675kB 6.0MB/s eta 0:00:01\r\u001b[K     |███████████▋                    | 686kB 6.0MB/s eta 0:00:01\r\u001b[K     |███████████▉                    | 696kB 6.0MB/s eta 0:00:01\r\u001b[K     |████████████                    | 706kB 6.0MB/s eta 0:00:01\r\u001b[K     |████████████▏                   | 716kB 6.0MB/s eta 0:00:01\r\u001b[K     |████████████▍                   | 727kB 6.0MB/s eta 0:00:01\r\u001b[K     |████████████▌                   | 737kB 6.0MB/s eta 0:00:01\r\u001b[K     |████████████▊                   | 747kB 6.0MB/s eta 0:00:01\r\u001b[K     |████████████▉                   | 757kB 6.0MB/s eta 0:00:01\r\u001b[K     |█████████████                   | 768kB 6.0MB/s eta 0:00:01\r\u001b[K     |█████████████▎                  | 778kB 6.0MB/s eta 0:00:01\r\u001b[K     |█████████████▍                  | 788kB 6.0MB/s eta 0:00:01\r\u001b[K     |█████████████▋                  | 798kB 6.0MB/s eta 0:00:01\r\u001b[K     |█████████████▊                  | 808kB 6.0MB/s eta 0:00:01\r\u001b[K     |██████████████                  | 819kB 6.0MB/s eta 0:00:01\r\u001b[K     |██████████████                  | 829kB 6.0MB/s eta 0:00:01\r\u001b[K     |██████████████▎                 | 839kB 6.0MB/s eta 0:00:01\r\u001b[K     |██████████████▌                 | 849kB 6.0MB/s eta 0:00:01\r\u001b[K     |██████████████▋                 | 860kB 6.0MB/s eta 0:00:01\r\u001b[K     |██████████████▉                 | 870kB 6.0MB/s eta 0:00:01\r\u001b[K     |███████████████                 | 880kB 6.0MB/s eta 0:00:01\r\u001b[K     |███████████████▏                | 890kB 6.0MB/s eta 0:00:01\r\u001b[K     |███████████████▎                | 901kB 6.0MB/s eta 0:00:01\r\u001b[K     |███████████████▌                | 911kB 6.0MB/s eta 0:00:01\r\u001b[K     |███████████████▋                | 921kB 6.0MB/s eta 0:00:01\r\u001b[K     |███████████████▉                | 931kB 6.0MB/s eta 0:00:01\r\u001b[K     |████████████████                | 942kB 6.0MB/s eta 0:00:01\r\u001b[K     |████████████████▏               | 952kB 6.0MB/s eta 0:00:01\r\u001b[K     |████████████████▍               | 962kB 6.0MB/s eta 0:00:01\r\u001b[K     |████████████████▌               | 972kB 6.0MB/s eta 0:00:01\r\u001b[K     |████████████████▊               | 983kB 6.0MB/s eta 0:00:01\r\u001b[K     |████████████████▉               | 993kB 6.0MB/s eta 0:00:01\r\u001b[K     |█████████████████               | 1.0MB 6.0MB/s eta 0:00:01\r\u001b[K     |█████████████████▎              | 1.0MB 6.0MB/s eta 0:00:01\r\u001b[K     |█████████████████▍              | 1.0MB 6.0MB/s eta 0:00:01\r\u001b[K     |█████████████████▋              | 1.0MB 6.0MB/s eta 0:00:01\r\u001b[K     |█████████████████▊              | 1.0MB 6.0MB/s eta 0:00:01\r\u001b[K     |██████████████████              | 1.1MB 6.0MB/s eta 0:00:01\r\u001b[K     |██████████████████              | 1.1MB 6.0MB/s eta 0:00:01\r\u001b[K     |██████████████████▎             | 1.1MB 6.0MB/s eta 0:00:01\r\u001b[K     |██████████████████▌             | 1.1MB 6.0MB/s eta 0:00:01\r\u001b[K     |██████████████████▋             | 1.1MB 6.0MB/s eta 0:00:01\r\u001b[K     |██████████████████▉             | 1.1MB 6.0MB/s eta 0:00:01\r\u001b[K     |███████████████████             | 1.1MB 6.0MB/s eta 0:00:01\r\u001b[K     |███████████████████▏            | 1.1MB 6.0MB/s eta 0:00:01\r\u001b[K     |███████████████████▎            | 1.1MB 6.0MB/s eta 0:00:01\r\u001b[K     |███████████████████▌            | 1.1MB 6.0MB/s eta 0:00:01\r\u001b[K     |███████████████████▋            | 1.2MB 6.0MB/s eta 0:00:01\r\u001b[K     |███████████████████▉            | 1.2MB 6.0MB/s eta 0:00:01\r\u001b[K     |████████████████████            | 1.2MB 6.0MB/s eta 0:00:01\r\u001b[K     |████████████████████▏           | 1.2MB 6.0MB/s eta 0:00:01\r\u001b[K     |████████████████████▍           | 1.2MB 6.0MB/s eta 0:00:01\r\u001b[K     |████████████████████▌           | 1.2MB 6.0MB/s eta 0:00:01\r\u001b[K     |████████████████████▊           | 1.2MB 6.0MB/s eta 0:00:01\r\u001b[K     |████████████████████▉           | 1.2MB 6.0MB/s eta 0:00:01\r\u001b[K     |█████████████████████           | 1.2MB 6.0MB/s eta 0:00:01\r\u001b[K     |█████████████████████▎          | 1.2MB 6.0MB/s eta 0:00:01\r\u001b[K     |█████████████████████▍          | 1.3MB 6.0MB/s eta 0:00:01\r\u001b[K     |█████████████████████▋          | 1.3MB 6.0MB/s eta 0:00:01\r\u001b[K     |█████████████████████▊          | 1.3MB 6.0MB/s eta 0:00:01\r\u001b[K     |██████████████████████          | 1.3MB 6.0MB/s eta 0:00:01\r\u001b[K     |██████████████████████          | 1.3MB 6.0MB/s eta 0:00:01\r\u001b[K     |██████████████████████▎         | 1.3MB 6.0MB/s eta 0:00:01\r\u001b[K     |██████████████████████▌         | 1.3MB 6.0MB/s eta 0:00:01\r\u001b[K     |██████████████████████▋         | 1.3MB 6.0MB/s eta 0:00:01\r\u001b[K     |██████████████████████▉         | 1.3MB 6.0MB/s eta 0:00:01\r\u001b[K     |███████████████████████         | 1.4MB 6.0MB/s eta 0:00:01\r\u001b[K     |███████████████████████▏        | 1.4MB 6.0MB/s eta 0:00:01\r\u001b[K     |███████████████████████▎        | 1.4MB 6.0MB/s eta 0:00:01\r\u001b[K     |███████████████████████▌        | 1.4MB 6.0MB/s eta 0:00:01\r\u001b[K     |███████████████████████▊        | 1.4MB 6.0MB/s eta 0:00:01\r\u001b[K     |███████████████████████▉        | 1.4MB 6.0MB/s eta 0:00:01\r\u001b[K     |████████████████████████        | 1.4MB 6.0MB/s eta 0:00:01\r\u001b[K     |████████████████████████▏       | 1.4MB 6.0MB/s eta 0:00:01\r\u001b[K     |████████████████████████▍       | 1.4MB 6.0MB/s eta 0:00:01\r\u001b[K     |████████████████████████▌       | 1.4MB 6.0MB/s eta 0:00:01\r\u001b[K     |████████████████████████▊       | 1.5MB 6.0MB/s eta 0:00:01\r\u001b[K     |████████████████████████▉       | 1.5MB 6.0MB/s eta 0:00:01\r\u001b[K     |█████████████████████████       | 1.5MB 6.0MB/s eta 0:00:01\r\u001b[K     |█████████████████████████▎      | 1.5MB 6.0MB/s eta 0:00:01\r\u001b[K     |█████████████████████████▍      | 1.5MB 6.0MB/s eta 0:00:01\r\u001b[K     |█████████████████████████▋      | 1.5MB 6.0MB/s eta 0:00:01\r\u001b[K     |█████████████████████████▊      | 1.5MB 6.0MB/s eta 0:00:01\r\u001b[K     |██████████████████████████      | 1.5MB 6.0MB/s eta 0:00:01\r\u001b[K     |██████████████████████████      | 1.5MB 6.0MB/s eta 0:00:01\r\u001b[K     |██████████████████████████▎     | 1.5MB 6.0MB/s eta 0:00:01\r\u001b[K     |██████████████████████████▌     | 1.6MB 6.0MB/s eta 0:00:01\r\u001b[K     |██████████████████████████▋     | 1.6MB 6.0MB/s eta 0:00:01\r\u001b[K     |██████████████████████████▉     | 1.6MB 6.0MB/s eta 0:00:01\r\u001b[K     |███████████████████████████     | 1.6MB 6.0MB/s eta 0:00:01\r\u001b[K     |███████████████████████████▏    | 1.6MB 6.0MB/s eta 0:00:01\r\u001b[K     |███████████████████████████▎    | 1.6MB 6.0MB/s eta 0:00:01\r\u001b[K     |███████████████████████████▌    | 1.6MB 6.0MB/s eta 0:00:01\r\u001b[K     |███████████████████████████▊    | 1.6MB 6.0MB/s eta 0:00:01\r\u001b[K     |███████████████████████████▉    | 1.6MB 6.0MB/s eta 0:00:01\r\u001b[K     |████████████████████████████    | 1.6MB 6.0MB/s eta 0:00:01\r\u001b[K     |████████████████████████████▏   | 1.7MB 6.0MB/s eta 0:00:01\r\u001b[K     |████████████████████████████▍   | 1.7MB 6.0MB/s eta 0:00:01\r\u001b[K     |████████████████████████████▌   | 1.7MB 6.0MB/s eta 0:00:01\r\u001b[K     |████████████████████████████▊   | 1.7MB 6.0MB/s eta 0:00:01\r\u001b[K     |█████████████████████████████   | 1.7MB 6.0MB/s eta 0:00:01\r\u001b[K     |█████████████████████████████   | 1.7MB 6.0MB/s eta 0:00:01\r\u001b[K     |█████████████████████████████▎  | 1.7MB 6.0MB/s eta 0:00:01\r\u001b[K     |█████████████████████████████▍  | 1.7MB 6.0MB/s eta 0:00:01\r\u001b[K     |█████████████████████████████▋  | 1.7MB 6.0MB/s eta 0:00:01\r\u001b[K     |█████████████████████████████▊  | 1.8MB 6.0MB/s eta 0:00:01\r\u001b[K     |██████████████████████████████  | 1.8MB 6.0MB/s eta 0:00:01\r\u001b[K     |██████████████████████████████  | 1.8MB 6.0MB/s eta 0:00:01\r\u001b[K     |██████████████████████████████▎ | 1.8MB 6.0MB/s eta 0:00:01\r\u001b[K     |██████████████████████████████▌ | 1.8MB 6.0MB/s eta 0:00:01\r\u001b[K     |██████████████████████████████▋ | 1.8MB 6.0MB/s eta 0:00:01\r\u001b[K     |██████████████████████████████▉ | 1.8MB 6.0MB/s eta 0:00:01\r\u001b[K     |███████████████████████████████ | 1.8MB 6.0MB/s eta 0:00:01\r\u001b[K     |███████████████████████████████▏| 1.8MB 6.0MB/s eta 0:00:01\r\u001b[K     |███████████████████████████████▎| 1.8MB 6.0MB/s eta 0:00:01\r\u001b[K     |███████████████████████████████▌| 1.9MB 6.0MB/s eta 0:00:01\r\u001b[K     |███████████████████████████████▊| 1.9MB 6.0MB/s eta 0:00:01\r\u001b[K     |███████████████████████████████▉| 1.9MB 6.0MB/s eta 0:00:01\r\u001b[K     |████████████████████████████████| 1.9MB 6.0MB/s \n",
            "\u001b[?25hcuda:0\n"
          ],
          "name": "stdout"
        }
      ]
    },
    {
      "cell_type": "code",
      "metadata": {
        "id": "wpnLfebgkUCq"
      },
      "source": [
        "mtcnn = MTCNN(keep_all=False, image_size=256, margin=50,post_process=True,min_face_size=100,device=device)"
      ],
      "execution_count": null,
      "outputs": []
    },
    {
      "cell_type": "code",
      "metadata": {
        "id": "gjQNJDjXkX2h"
      },
      "source": [
        "def getFaces(images,path,out_path):\n",
        "    Path(out_path).mkdir(parents=True, exist_ok=True)\n",
        "    for image in images:\n",
        "        filename = path+image\n",
        "        new_name = out_path+image\n",
        "        im = Image.open(filename)\n",
        "        save_paths = new_name\n",
        "        mtcnn(im, save_path=save_paths)\n",
        "    print(\"All Faces Extracted\")"
      ],
      "execution_count": null,
      "outputs": []
    },
    {
      "cell_type": "code",
      "metadata": {
        "id": "RJ0EQQz_kxiY"
      },
      "source": [
        "game_path = \"/content/drive/MyDrive/Game-Movie/images/game/\" #path for games and images\n",
        "movies_path = \"/content/drive/MyDrive/Game-Movie/images/movies/\"\n",
        "game_images = next(os.walk(game_path))[2]\n",
        "movie_images = next(os.walk(movies_path))[2]"
      ],
      "execution_count": null,
      "outputs": []
    },
    {
      "cell_type": "code",
      "metadata": {
        "colab": {
          "base_uri": "https://localhost:8080/"
        },
        "id": "4iQGNYlHl71f",
        "outputId": "f2e2a9bc-a06f-4582-c788-ca70ff69093a"
      },
      "source": [
        "getFaces(game_images,game_path,\"/content/drive/MyDrive/Game-Movie/face_images/game/\")\n",
        "getFaces(movie_images,movies_path,\"/content/drive/MyDrive/Game-Movie/face_images/movies/\")"
      ],
      "execution_count": null,
      "outputs": [
        {
          "output_type": "stream",
          "text": [
            "All Faces Extracted\n",
            "All Faces Extracted\n"
          ],
          "name": "stdout"
        }
      ]
    },
    {
      "cell_type": "code",
      "metadata": {
        "colab": {
          "base_uri": "https://localhost:8080/"
        },
        "id": "1JywWZEwtHNA",
        "outputId": "44376ae9-e236-4069-a5f7-5178900f4f11"
      },
      "source": [
        "import h5py\n",
        "from PIL import Image\n",
        "import os, os.path\n",
        "import random\n",
        "import numpy as np\n",
        "game_path = \"/content/drive/MyDrive/Game-Movie/face_images/game/\"\n",
        "movie_path = \"/content/drive/MyDrive/Game-Movie/face_images/movies/\"\n",
        "game_fileName = \"/content/drive/MyDrive/Game-Movie/face_images/h5/game_faces.h5\"\n",
        "movie_fileName = \"/content/drive/MyDrive/Game-Movie/face_images/h5/movie_faces.h5\"\n",
        "def converth5(path,output_path):\n",
        "    #get names of the images and randomize\n",
        "    # Path(output_path).mkdir(parents=True, exist_ok=True)\n",
        "    files = [name for name in os.listdir(path)]\n",
        "    random.shuffle(files)#inplace operation\n",
        "    #define some variable according to the size\n",
        "    size = 256\n",
        "    numTrain = int(0.15*len(files))\n",
        "    numTest = len(files)-numTrain\n",
        "    #create the h5 files\n",
        "    f = h5py.File(output_path, \"w\")\n",
        "    with f as out:\n",
        "        out.create_dataset(\"X_train\",(numTrain,size,size,3),dtype='u1')   \n",
        "        out.create_dataset(\"X_test\",(numTest,size,size,3),dtype='u1')\n",
        "        #populate the h5 file\n",
        "    f = h5py.File(output_path, \"a\")\n",
        "    with f as out:\n",
        "        for index,img_name in enumerate(files[:numTrain]):\n",
        "            img = Image.open(path+img_name)      \n",
        "            out['X_train'][index] = np.asarray(img)\n",
        "    print(\"Conversion Complete\")\n",
        "converth5(game_path,game_fileName)\n"
      ],
      "execution_count": null,
      "outputs": [
        {
          "output_type": "stream",
          "text": [
            "Conversion Complete\n"
          ],
          "name": "stdout"
        }
      ]
    },
    {
      "cell_type": "code",
      "metadata": {
        "colab": {
          "base_uri": "https://localhost:8080/"
        },
        "id": "13KtuGHEmt6C",
        "outputId": "6d50ecd1-a829-4148-fa00-9f2b51d418e1"
      },
      "source": [
        "# converth5(game_path,game_fileName)\n",
        "converth5(movie_path,movie_fileName)"
      ],
      "execution_count": null,
      "outputs": [
        {
          "output_type": "stream",
          "text": [
            "Conversion Complete\n"
          ],
          "name": "stdout"
        }
      ]
    }
  ]
}